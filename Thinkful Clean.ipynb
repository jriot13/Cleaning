{
 "cells": [
  {
   "cell_type": "code",
   "execution_count": 77,
   "metadata": {},
   "outputs": [],
   "source": [
    "import numpy as np\n",
    "import pandas as pd\n",
    "import matplotlib.pyplot as plt\n",
    "import seaborn as sns\n",
    "import os\n",
    "%matplotlib inline"
   ]
  },
  {
   "cell_type": "code",
   "execution_count": 78,
   "metadata": {},
   "outputs": [
    {
     "data": {
      "text/plain": [
       "'/Users/juliantheriot'"
      ]
     },
     "execution_count": 78,
     "metadata": {},
     "output_type": "execute_result"
    }
   ],
   "source": [
    "pwd"
   ]
  },
  {
   "cell_type": "code",
   "execution_count": 79,
   "metadata": {},
   "outputs": [
    {
     "data": {
      "text/html": [
       "<div>\n",
       "<style scoped>\n",
       "    .dataframe tbody tr th:only-of-type {\n",
       "        vertical-align: middle;\n",
       "    }\n",
       "\n",
       "    .dataframe tbody tr th {\n",
       "        vertical-align: top;\n",
       "    }\n",
       "\n",
       "    .dataframe thead th {\n",
       "        text-align: right;\n",
       "    }\n",
       "</style>\n",
       "<table border=\"1\" class=\"dataframe\">\n",
       "  <thead>\n",
       "    <tr style=\"text-align: right;\">\n",
       "      <th></th>\n",
       "      <th>PMID/PMCID</th>\n",
       "      <th>Publisher</th>\n",
       "      <th>Journal title</th>\n",
       "      <th>Article title</th>\n",
       "      <th>COST (£) charged to Wellcome (inc VAT when charged)</th>\n",
       "    </tr>\n",
       "  </thead>\n",
       "  <tbody>\n",
       "    <tr>\n",
       "      <th>0</th>\n",
       "      <td>NaN</td>\n",
       "      <td>CUP</td>\n",
       "      <td>Psychological Medicine</td>\n",
       "      <td>Reduced parahippocampal cortical thickness in ...</td>\n",
       "      <td>£0.00</td>\n",
       "    </tr>\n",
       "    <tr>\n",
       "      <th>1</th>\n",
       "      <td>PMC3679557</td>\n",
       "      <td>ACS</td>\n",
       "      <td>Biomacromolecules</td>\n",
       "      <td>Structural characterization of a Model Gram-ne...</td>\n",
       "      <td>£2381.04</td>\n",
       "    </tr>\n",
       "    <tr>\n",
       "      <th>2</th>\n",
       "      <td>23043264  PMC3506128</td>\n",
       "      <td>ACS</td>\n",
       "      <td>J Med Chem</td>\n",
       "      <td>Fumaroylamino-4,5-epoxymorphinans and related ...</td>\n",
       "      <td>£642.56</td>\n",
       "    </tr>\n",
       "    <tr>\n",
       "      <th>3</th>\n",
       "      <td>23438330 PMC3646402</td>\n",
       "      <td>ACS</td>\n",
       "      <td>J Med Chem</td>\n",
       "      <td>Orvinols with mixed kappa/mu opioid receptor a...</td>\n",
       "      <td>£669.64</td>\n",
       "    </tr>\n",
       "    <tr>\n",
       "      <th>4</th>\n",
       "      <td>23438216 PMC3601604</td>\n",
       "      <td>ACS</td>\n",
       "      <td>J Org Chem</td>\n",
       "      <td>Regioselective opening of myo-inositol orthoes...</td>\n",
       "      <td>£685.88</td>\n",
       "    </tr>\n",
       "  </tbody>\n",
       "</table>\n",
       "</div>"
      ],
      "text/plain": [
       "              PMID/PMCID Publisher           Journal title  \\\n",
       "0                    NaN       CUP  Psychological Medicine   \n",
       "1             PMC3679557       ACS       Biomacromolecules   \n",
       "2  23043264  PMC3506128        ACS              J Med Chem   \n",
       "3    23438330 PMC3646402       ACS              J Med Chem   \n",
       "4   23438216 PMC3601604        ACS              J Org Chem   \n",
       "\n",
       "                                       Article title  \\\n",
       "0  Reduced parahippocampal cortical thickness in ...   \n",
       "1  Structural characterization of a Model Gram-ne...   \n",
       "2  Fumaroylamino-4,5-epoxymorphinans and related ...   \n",
       "3  Orvinols with mixed kappa/mu opioid receptor a...   \n",
       "4  Regioselective opening of myo-inositol orthoes...   \n",
       "\n",
       "  COST (£) charged to Wellcome (inc VAT when charged)  \n",
       "0                                              £0.00   \n",
       "1                                           £2381.04   \n",
       "2                                            £642.56   \n",
       "3                                            £669.64   \n",
       "4                                            £685.88   "
      ]
     },
     "execution_count": 79,
     "metadata": {},
     "output_type": "execute_result"
    }
   ],
   "source": [
    "thinkful = pd.read_csv('/Users/juliantheriot/downloads/WELLCOME_APCspend2013_forThinkful.csv', encoding='unicode_escape')\n",
    "thinkful.head()"
   ]
  },
  {
   "cell_type": "code",
   "execution_count": 80,
   "metadata": {},
   "outputs": [
    {
     "name": "stdout",
     "output_type": "stream",
     "text": [
      "PMID/PMCID                                             False\n",
      "Publisher                                              False\n",
      "Journal title                                          False\n",
      "Article title                                          False\n",
      "COST (£) charged to Wellcome (inc VAT when charged)    False\n",
      "dtype: bool\n"
     ]
    }
   ],
   "source": [
    "def is_a_string(x):\n",
    "    return str(x).isalpha()\n",
    "print(thinkful.apply(is_a_string))"
   ]
  },
  {
   "cell_type": "code",
   "execution_count": 81,
   "metadata": {},
   "outputs": [
    {
     "name": "stdout",
     "output_type": "stream",
     "text": [
      "['Publisher']\n",
      "\n",
      "Applying filter() to each value in the series:\n",
      "PMID/PMCID                                             NaNPMCPMCPMCPMCPMCPMCPMCPMCIDPMCPMCIDPMCPMCIDP...\n",
      "Publisher                                              CUPACSACSACSACSACSACSACSACSAmercianChemicalSoc...\n",
      "Journal title                                          PsychologicalMedicineBiomacromoleculesJMedChem...\n",
      "Article title                                          ReducedparahippocampalcorticalthicknessinStruc...\n",
      "COST (£) charged to Wellcome (inc VAT when charged)    NameCOSTchargedtoWellcomeincVATwhenchargedLeng...\n",
      "dtype: object\n"
     ]
    }
   ],
   "source": [
    "print(list(filter(lambda x: str(x).isalpha(), thinkful)))\n",
    "\n",
    "print('\\nApplying filter() to each value in the series:')\n",
    "print(thinkful.apply(lambda x: ''.join(list(filter(str.isalpha, str(x))))))"
   ]
  },
  {
   "cell_type": "code",
   "execution_count": 82,
   "metadata": {},
   "outputs": [
    {
     "name": "stdout",
     "output_type": "stream",
     "text": [
      "0        Publisher\n",
      "1    Journal title\n",
      "Name: 0, dtype: object \n",
      "\n",
      "0        Publisher\n",
      "1    Journal title\n",
      "Name: 0, dtype: object\n"
     ]
    }
   ],
   "source": [
    "Publisher = 'Publisher'\n",
    "Journal = 'Journal title'\n",
    "words = pd.Series(['Publisher', 'Journal title'])\n",
    "word_split = words.str.split('$', expand=True)\n",
    "Publisher = word_split[0]\n",
    "Journal = word_split[0]\n",
    "print(Publisher, '\\n')\n",
    "print(Journal)"
   ]
  },
  {
   "cell_type": "code",
   "execution_count": 83,
   "metadata": {},
   "outputs": [
    {
     "name": "stdout",
     "output_type": "stream",
     "text": [
      "<bound method Series.isnull of 0                                  Psychological Medicine\n",
      "1                                       Biomacromolecules\n",
      "2                                              J Med Chem\n",
      "3                                              J Med Chem\n",
      "4                                              J Org Chem\n",
      "5                          Journal of Medicinal Chemistry\n",
      "6                            Journal of Proteome Research\n",
      "7                                               Mol Pharm\n",
      "8                                    ACS Chemical Biology\n",
      "9                                    ACS Chemical Biology\n",
      "10           Journal of Chemical Information and Modeling\n",
      "11                         Journal of Medicinal Chemistry\n",
      "12                         Journal of Medicinal Chemistry\n",
      "13                                           Biochemistry\n",
      "14                         Journal of Medicinal Chemistry\n",
      "15                                       Gastroenterology\n",
      "16                        Journal of Biological Chemistry\n",
      "17                                  Journal of Immunology\n",
      "18                                  Journal of Immunology\n",
      "19                                   ACS Chemical Biology\n",
      "20                                   ACS Chemical Biology\n",
      "21                                   ACS Chemical Biology\n",
      "22                              ACS Chemical Neuroscience\n",
      "23                                               ACS NANO\n",
      "24                              American Chemical Society\n",
      "25                                   Analytical Chemistry\n",
      "26                                   Analytical Chemistry\n",
      "27                                   Analytical Chemistry\n",
      "28                                 Bioconjugate Chemistry\n",
      "29                         Journal of Medicinal Chemistry\n",
      "                              ...                        \n",
      "2097                               Molecular Microbiology\n",
      "2098                                      Obesity Reviews\n",
      "2099                                      Obesity Reviews\n",
      "2100                               Statistics in Medicine\n",
      "2101                                           Stem Cells\n",
      "2102                                              Synapse\n",
      "2103                 The European Journal of Neuroscience\n",
      "2104                                              Traffic\n",
      "2105                                              Traffic\n",
      "2106                           Zoonoses and Public Health\n",
      "2107                  American Journal of Transplantation\n",
      "2108                                   Angew chems Int Ed\n",
      "2109                                          CHEMBIOCHEM\n",
      "2110                                          Chemmedchem\n",
      "2111                                          Chemmedchem\n",
      "2112                                          ChemMedChem\n",
      "2113                                            Protemics\n",
      "2114                     Journal of Small Animal Practice\n",
      "2115                                                 AIDS\n",
      "2116                                         AIDS Journal\n",
      "2117                                              AIDS UK\n",
      "2118                                              AIDS UK\n",
      "2119    JAIDS Journal of Acquired Immune Deficiency Sy...\n",
      "2120    Journal of Acquired Immune Deficiency Syndroms...\n",
      "2121                                      Journal of Aids\n",
      "2122                                 Circulation Research\n",
      "2123                                                 AIDS\n",
      "2124                                 Pediatr Infect Dis J\n",
      "2125                                                 AIDS\n",
      "2126      Journal of Acquired Immune Deficiency Syndromes\n",
      "Name: Journal title, Length: 2127, dtype: object>\n"
     ]
    }
   ],
   "source": [
    "print(thinkful['Journal title'].isnull)"
   ]
  },
  {
   "cell_type": "code",
   "execution_count": 84,
   "metadata": {},
   "outputs": [
    {
     "name": "stdout",
     "output_type": "stream",
     "text": [
      "PMID/PMCID                                             199\n",
      "Publisher                                                0\n",
      "Journal title                                            1\n",
      "Article title                                            0\n",
      "COST (£) charged to Wellcome (inc VAT when charged)      0\n",
      "dtype: int64\n"
     ]
    }
   ],
   "source": [
    "print(thinkful.isnull().sum())"
   ]
  },
  {
   "cell_type": "code",
   "execution_count": 85,
   "metadata": {},
   "outputs": [
    {
     "name": "stdout",
     "output_type": "stream",
     "text": [
      "<bound method Series.isnull of 0                                                CUP\n",
      "1                                                ACS\n",
      "2                                                ACS\n",
      "3                                                ACS\n",
      "4                                                ACS\n",
      "5                                                ACS\n",
      "6                                                ACS\n",
      "7                                                ACS\n",
      "8       ACS (Amercian Chemical Society) Publications\n",
      "9       ACS (Amercian Chemical Society) Publications\n",
      "10      ACS (Amercian Chemical Society) Publications\n",
      "11      ACS (Amercian Chemical Society) Publications\n",
      "12      ACS (Amercian Chemical Society) Publications\n",
      "13                                  ACS Publications\n",
      "14                                  ACS Publications\n",
      "15                                     AGA Institute\n",
      "16                                             AMBSB\n",
      "17             American Association of Immunologists\n",
      "18             American Association of Immunologists\n",
      "19                         American Chemical Society\n",
      "20                         American Chemical Society\n",
      "21                         American Chemical Society\n",
      "22                         American Chemical Society\n",
      "23                         AMERICAN CHEMICAL SOCIETY\n",
      "24                         American Chemical Society\n",
      "25                         American Chemical Society\n",
      "26                         American Chemical Society\n",
      "27                         American Chemical Society\n",
      "28                         American Chemical Society\n",
      "29                         American Chemical Society\n",
      "                            ...                     \n",
      "2097                                 Wiley-Blackwell\n",
      "2098                                 Wiley-Blackwell\n",
      "2099                                 Wiley-Blackwell\n",
      "2100                                 Wiley-Blackwell\n",
      "2101                                 Wiley-Blackwell\n",
      "2102                                 Wiley-Blackwell\n",
      "2103                                 Wiley-Blackwell\n",
      "2104                                 Wiley-Blackwell\n",
      "2105                                 Wiley-Blackwell\n",
      "2106                                 Wiley-Blackwell\n",
      "2107              Wiley-Blackwell, John Wiley & Sons\n",
      "2108                                       Wiley-VCH\n",
      "2109                                       Wiley-VCH\n",
      "2110                                       Wiley-VCH\n",
      "2111                                       Wiley-VCH\n",
      "2112                                       Wiley-VCH\n",
      "2113                                       Wiley-VCH\n",
      "2114                                 Wliey-Blackwell\n",
      "2115                                  Wolters Kluwer\n",
      "2116                                  Wolters Kluwer\n",
      "2117                                  Wolters Kluwer\n",
      "2118                                  Wolters Kluwer\n",
      "2119                                  Wolters Kluwer\n",
      "2120                                  Wolters Kluwer\n",
      "2121                                  Wolters Kluwer\n",
      "2122                           Wolters Kluwer Health\n",
      "2123                          Wolters Kluwer Health \n",
      "2124                          Wolters Kluwer Health \n",
      "2125                   Wolters Kluwer N.V./Lippinott\n",
      "2126                                 Wolters Kluwers\n",
      "Name: Publisher, Length: 2127, dtype: object>\n"
     ]
    }
   ],
   "source": [
    "print(thinkful['Publisher'].isnull)"
   ]
  },
  {
   "cell_type": "code",
   "execution_count": 86,
   "metadata": {},
   "outputs": [
    {
     "name": "stdout",
     "output_type": "stream",
     "text": [
      "PMID/PMCID                                             199\n",
      "Publisher                                                0\n",
      "Journal title                                            1\n",
      "Article title                                            0\n",
      "COST (£) charged to Wellcome (inc VAT when charged)      0\n",
      "dtype: int64\n"
     ]
    }
   ],
   "source": [
    "print(thinkful.isnull().sum())"
   ]
  },
  {
   "cell_type": "code",
   "execution_count": 87,
   "metadata": {},
   "outputs": [
    {
     "data": {
      "text/html": [
       "<div>\n",
       "<style scoped>\n",
       "    .dataframe tbody tr th:only-of-type {\n",
       "        vertical-align: middle;\n",
       "    }\n",
       "\n",
       "    .dataframe tbody tr th {\n",
       "        vertical-align: top;\n",
       "    }\n",
       "\n",
       "    .dataframe thead th {\n",
       "        text-align: right;\n",
       "    }\n",
       "</style>\n",
       "<table border=\"1\" class=\"dataframe\">\n",
       "  <thead>\n",
       "    <tr style=\"text-align: right;\">\n",
       "      <th></th>\n",
       "      <th>Publisher</th>\n",
       "      <th>Journal title</th>\n",
       "      <th>Article title</th>\n",
       "      <th>COST (£) charged to Wellcome (inc VAT when charged)</th>\n",
       "    </tr>\n",
       "  </thead>\n",
       "  <tbody>\n",
       "    <tr>\n",
       "      <th>0</th>\n",
       "      <td>CUP</td>\n",
       "      <td>Psychological Medicine</td>\n",
       "      <td>Reduced parahippocampal cortical thickness in ...</td>\n",
       "      <td>£0.00</td>\n",
       "    </tr>\n",
       "    <tr>\n",
       "      <th>1</th>\n",
       "      <td>ACS</td>\n",
       "      <td>Biomacromolecules</td>\n",
       "      <td>Structural characterization of a Model Gram-ne...</td>\n",
       "      <td>£2381.04</td>\n",
       "    </tr>\n",
       "    <tr>\n",
       "      <th>2</th>\n",
       "      <td>ACS</td>\n",
       "      <td>J Med Chem</td>\n",
       "      <td>Fumaroylamino-4,5-epoxymorphinans and related ...</td>\n",
       "      <td>£642.56</td>\n",
       "    </tr>\n",
       "    <tr>\n",
       "      <th>3</th>\n",
       "      <td>ACS</td>\n",
       "      <td>J Med Chem</td>\n",
       "      <td>Orvinols with mixed kappa/mu opioid receptor a...</td>\n",
       "      <td>£669.64</td>\n",
       "    </tr>\n",
       "    <tr>\n",
       "      <th>4</th>\n",
       "      <td>ACS</td>\n",
       "      <td>J Org Chem</td>\n",
       "      <td>Regioselective opening of myo-inositol orthoes...</td>\n",
       "      <td>£685.88</td>\n",
       "    </tr>\n",
       "  </tbody>\n",
       "</table>\n",
       "</div>"
      ],
      "text/plain": [
       "  Publisher           Journal title  \\\n",
       "0       CUP  Psychological Medicine   \n",
       "1       ACS       Biomacromolecules   \n",
       "2       ACS              J Med Chem   \n",
       "3       ACS              J Med Chem   \n",
       "4       ACS              J Org Chem   \n",
       "\n",
       "                                       Article title  \\\n",
       "0  Reduced parahippocampal cortical thickness in ...   \n",
       "1  Structural characterization of a Model Gram-ne...   \n",
       "2  Fumaroylamino-4,5-epoxymorphinans and related ...   \n",
       "3  Orvinols with mixed kappa/mu opioid receptor a...   \n",
       "4  Regioselective opening of myo-inositol orthoes...   \n",
       "\n",
       "  COST (£) charged to Wellcome (inc VAT when charged)  \n",
       "0                                              £0.00   \n",
       "1                                           £2381.04   \n",
       "2                                            £642.56   \n",
       "3                                            £669.64   \n",
       "4                                            £685.88   "
      ]
     },
     "execution_count": 87,
     "metadata": {},
     "output_type": "execute_result"
    }
   ],
   "source": [
    "thinkful.drop(columns=[\"PMID/PMCID\"], inplace=True)\n",
    "thinkful.head()"
   ]
  },
  {
   "cell_type": "code",
   "execution_count": 88,
   "metadata": {},
   "outputs": [],
   "source": [
    "thinkful.dropna(subset=['Journal title'], inplace=True)"
   ]
  },
  {
   "cell_type": "code",
   "execution_count": 89,
   "metadata": {},
   "outputs": [
    {
     "name": "stdout",
     "output_type": "stream",
     "text": [
      "Publisher                                              0\n",
      "Journal title                                          0\n",
      "Article title                                          0\n",
      "COST (£) charged to Wellcome (inc VAT when charged)    0\n",
      "dtype: int64\n"
     ]
    }
   ],
   "source": [
    "print(thinkful.isnull().sum())"
   ]
  },
  {
   "cell_type": "code",
   "execution_count": 90,
   "metadata": {},
   "outputs": [
    {
     "data": {
      "text/html": [
       "<div>\n",
       "<style scoped>\n",
       "    .dataframe tbody tr th:only-of-type {\n",
       "        vertical-align: middle;\n",
       "    }\n",
       "\n",
       "    .dataframe tbody tr th {\n",
       "        vertical-align: top;\n",
       "    }\n",
       "\n",
       "    .dataframe thead th {\n",
       "        text-align: right;\n",
       "    }\n",
       "</style>\n",
       "<table border=\"1\" class=\"dataframe\">\n",
       "  <thead>\n",
       "    <tr style=\"text-align: right;\">\n",
       "      <th></th>\n",
       "      <th>Publisher</th>\n",
       "      <th>Journal title</th>\n",
       "      <th>Article title</th>\n",
       "      <th>Price</th>\n",
       "    </tr>\n",
       "  </thead>\n",
       "  <tbody>\n",
       "    <tr>\n",
       "      <th>0</th>\n",
       "      <td>CUP</td>\n",
       "      <td>Psychological Medicine</td>\n",
       "      <td>Reduced parahippocampal cortical thickness in ...</td>\n",
       "      <td>£0.00</td>\n",
       "    </tr>\n",
       "    <tr>\n",
       "      <th>1</th>\n",
       "      <td>ACS</td>\n",
       "      <td>Biomacromolecules</td>\n",
       "      <td>Structural characterization of a Model Gram-ne...</td>\n",
       "      <td>£2381.04</td>\n",
       "    </tr>\n",
       "    <tr>\n",
       "      <th>2</th>\n",
       "      <td>ACS</td>\n",
       "      <td>J Med Chem</td>\n",
       "      <td>Fumaroylamino-4,5-epoxymorphinans and related ...</td>\n",
       "      <td>£642.56</td>\n",
       "    </tr>\n",
       "    <tr>\n",
       "      <th>3</th>\n",
       "      <td>ACS</td>\n",
       "      <td>J Med Chem</td>\n",
       "      <td>Orvinols with mixed kappa/mu opioid receptor a...</td>\n",
       "      <td>£669.64</td>\n",
       "    </tr>\n",
       "    <tr>\n",
       "      <th>4</th>\n",
       "      <td>ACS</td>\n",
       "      <td>J Org Chem</td>\n",
       "      <td>Regioselective opening of myo-inositol orthoes...</td>\n",
       "      <td>£685.88</td>\n",
       "    </tr>\n",
       "  </tbody>\n",
       "</table>\n",
       "</div>"
      ],
      "text/plain": [
       "  Publisher           Journal title  \\\n",
       "0       CUP  Psychological Medicine   \n",
       "1       ACS       Biomacromolecules   \n",
       "2       ACS              J Med Chem   \n",
       "3       ACS              J Med Chem   \n",
       "4       ACS              J Org Chem   \n",
       "\n",
       "                                       Article title     Price  \n",
       "0  Reduced parahippocampal cortical thickness in ...     £0.00  \n",
       "1  Structural characterization of a Model Gram-ne...  £2381.04  \n",
       "2  Fumaroylamino-4,5-epoxymorphinans and related ...   £642.56  \n",
       "3  Orvinols with mixed kappa/mu opioid receptor a...   £669.64  \n",
       "4  Regioselective opening of myo-inositol orthoes...   £685.88  "
      ]
     },
     "execution_count": 90,
     "metadata": {},
     "output_type": "execute_result"
    }
   ],
   "source": [
    "thinkful.rename(columns={'COST (£) charged to Wellcome (inc VAT when charged)':'Price'}, inplace=True)\n",
    "thinkful.head()"
   ]
  },
  {
   "cell_type": "code",
   "execution_count": 91,
   "metadata": {},
   "outputs": [
    {
     "data": {
      "text/html": [
       "<div>\n",
       "<style scoped>\n",
       "    .dataframe tbody tr th:only-of-type {\n",
       "        vertical-align: middle;\n",
       "    }\n",
       "\n",
       "    .dataframe tbody tr th {\n",
       "        vertical-align: top;\n",
       "    }\n",
       "\n",
       "    .dataframe thead th {\n",
       "        text-align: right;\n",
       "    }\n",
       "</style>\n",
       "<table border=\"1\" class=\"dataframe\">\n",
       "  <thead>\n",
       "    <tr style=\"text-align: right;\">\n",
       "      <th></th>\n",
       "      <th>Publisher</th>\n",
       "      <th>Journal title</th>\n",
       "      <th>Article title</th>\n",
       "      <th>Price</th>\n",
       "    </tr>\n",
       "  </thead>\n",
       "  <tbody>\n",
       "    <tr>\n",
       "      <th>0</th>\n",
       "      <td>CUP</td>\n",
       "      <td>PSYCHOLOGICAL MEDICINE</td>\n",
       "      <td>Reduced parahippocampal cortical thickness in ...</td>\n",
       "      <td>£0.00</td>\n",
       "    </tr>\n",
       "    <tr>\n",
       "      <th>1</th>\n",
       "      <td>ACS</td>\n",
       "      <td>BIOMACROMOLECULES</td>\n",
       "      <td>Structural characterization of a Model Gram-ne...</td>\n",
       "      <td>£2381.04</td>\n",
       "    </tr>\n",
       "    <tr>\n",
       "      <th>2</th>\n",
       "      <td>ACS</td>\n",
       "      <td>J MED CHEM</td>\n",
       "      <td>Fumaroylamino-4,5-epoxymorphinans and related ...</td>\n",
       "      <td>£642.56</td>\n",
       "    </tr>\n",
       "    <tr>\n",
       "      <th>3</th>\n",
       "      <td>ACS</td>\n",
       "      <td>J MED CHEM</td>\n",
       "      <td>Orvinols with mixed kappa/mu opioid receptor a...</td>\n",
       "      <td>£669.64</td>\n",
       "    </tr>\n",
       "    <tr>\n",
       "      <th>4</th>\n",
       "      <td>ACS</td>\n",
       "      <td>J ORG CHEM</td>\n",
       "      <td>Regioselective opening of myo-inositol orthoes...</td>\n",
       "      <td>£685.88</td>\n",
       "    </tr>\n",
       "  </tbody>\n",
       "</table>\n",
       "</div>"
      ],
      "text/plain": [
       "  Publisher           Journal title  \\\n",
       "0       CUP  PSYCHOLOGICAL MEDICINE   \n",
       "1       ACS       BIOMACROMOLECULES   \n",
       "2       ACS              J MED CHEM   \n",
       "3       ACS              J MED CHEM   \n",
       "4       ACS              J ORG CHEM   \n",
       "\n",
       "                                       Article title     Price  \n",
       "0  Reduced parahippocampal cortical thickness in ...     £0.00  \n",
       "1  Structural characterization of a Model Gram-ne...  £2381.04  \n",
       "2  Fumaroylamino-4,5-epoxymorphinans and related ...   £642.56  \n",
       "3  Orvinols with mixed kappa/mu opioid receptor a...   £669.64  \n",
       "4  Regioselective opening of myo-inositol orthoes...   £685.88  "
      ]
     },
     "execution_count": 91,
     "metadata": {},
     "output_type": "execute_result"
    }
   ],
   "source": [
    "thinkful['Journal title']=thinkful['Journal title'].str.upper()\n",
    "thinkful.head()"
   ]
  },
  {
   "cell_type": "code",
   "execution_count": 92,
   "metadata": {},
   "outputs": [
    {
     "data": {
      "text/html": [
       "<div>\n",
       "<style scoped>\n",
       "    .dataframe tbody tr th:only-of-type {\n",
       "        vertical-align: middle;\n",
       "    }\n",
       "\n",
       "    .dataframe tbody tr th {\n",
       "        vertical-align: top;\n",
       "    }\n",
       "\n",
       "    .dataframe thead th {\n",
       "        text-align: right;\n",
       "    }\n",
       "</style>\n",
       "<table border=\"1\" class=\"dataframe\">\n",
       "  <thead>\n",
       "    <tr style=\"text-align: right;\">\n",
       "      <th></th>\n",
       "      <th>Publisher</th>\n",
       "      <th>Journal title</th>\n",
       "      <th>Article title</th>\n",
       "      <th>Price</th>\n",
       "    </tr>\n",
       "  </thead>\n",
       "  <tbody>\n",
       "    <tr>\n",
       "      <th>0</th>\n",
       "      <td>CUP</td>\n",
       "      <td>PSYCHOLOGICAL MEDICINE</td>\n",
       "      <td>Reduced parahippocampal cortical thickness in ...</td>\n",
       "      <td>£0.00</td>\n",
       "    </tr>\n",
       "    <tr>\n",
       "      <th>1</th>\n",
       "      <td>ACS</td>\n",
       "      <td>BIOMACROMOLECULES</td>\n",
       "      <td>Structural characterization of a Model Gram-ne...</td>\n",
       "      <td>£2381.04</td>\n",
       "    </tr>\n",
       "    <tr>\n",
       "      <th>2</th>\n",
       "      <td>ACS</td>\n",
       "      <td>J MED CHEM</td>\n",
       "      <td>Fumaroylamino-4,5-epoxymorphinans and related ...</td>\n",
       "      <td>£642.56</td>\n",
       "    </tr>\n",
       "    <tr>\n",
       "      <th>3</th>\n",
       "      <td>ACS</td>\n",
       "      <td>J MED CHEM</td>\n",
       "      <td>Orvinols with mixed kappa/mu opioid receptor a...</td>\n",
       "      <td>£669.64</td>\n",
       "    </tr>\n",
       "    <tr>\n",
       "      <th>4</th>\n",
       "      <td>ACS</td>\n",
       "      <td>J ORG CHEM</td>\n",
       "      <td>Regioselective opening of myo-inositol orthoes...</td>\n",
       "      <td>£685.88</td>\n",
       "    </tr>\n",
       "  </tbody>\n",
       "</table>\n",
       "</div>"
      ],
      "text/plain": [
       "  Publisher           Journal title  \\\n",
       "0       CUP  PSYCHOLOGICAL MEDICINE   \n",
       "1       ACS       BIOMACROMOLECULES   \n",
       "2       ACS              J MED CHEM   \n",
       "3       ACS              J MED CHEM   \n",
       "4       ACS              J ORG CHEM   \n",
       "\n",
       "                                       Article title     Price  \n",
       "0  Reduced parahippocampal cortical thickness in ...     £0.00  \n",
       "1  Structural characterization of a Model Gram-ne...  £2381.04  \n",
       "2  Fumaroylamino-4,5-epoxymorphinans and related ...   £642.56  \n",
       "3  Orvinols with mixed kappa/mu opioid receptor a...   £669.64  \n",
       "4  Regioselective opening of myo-inositol orthoes...   £685.88  "
      ]
     },
     "execution_count": 92,
     "metadata": {},
     "output_type": "execute_result"
    }
   ],
   "source": [
    "thinkful['Journal title']=thinkful['Journal title'].str.strip()\n",
    "thinkful.head()"
   ]
  },
  {
   "cell_type": "code",
   "execution_count": 93,
   "metadata": {},
   "outputs": [
    {
     "data": {
      "text/plain": [
       "PLOS ONE                                                      190\n",
       "JOURNAL OF BIOLOGICAL CHEMISTRY                                53\n",
       "NEUROIMAGE                                                     29\n",
       "NUCLEIC ACIDS RESEARCH                                         26\n",
       "PLOS GENETICS                                                  24\n",
       "PLOS PATHOGENS                                                 24\n",
       "PROCEEDINGS OF THE NATIONAL ACADEMY OF SCIENCES                22\n",
       "PLOS NEGLECTED TROPICAL DISEASES                               20\n",
       "NATURE COMMUNICATIONS                                          19\n",
       "HUMAN MOLECULAR GENETICS                                       19\n",
       "MOVEMENT DISORDERS                                             15\n",
       "BRAIN                                                          14\n",
       "BMC PUBLIC HEALTH                                              14\n",
       "JOURNAL OF NEUROSCIENCE                                        13\n",
       "BIOCHEMICAL JOURNAL                                            12\n",
       "DEVELOPMENTAL CELL                                             12\n",
       "JOURNAL OF GENERAL VIROLOGY                                    11\n",
       "CURRENT BIOLOGY                                                11\n",
       "BMJ                                                            10\n",
       "MALARIA JOURNAL                                                10\n",
       "NEURON                                                          9\n",
       "CELL REPORTS                                                    9\n",
       "BMJ OPEN                                                        9\n",
       "DEVELOPMENT                                                     9\n",
       "JOURNAL OF VIROLOGY                                             9\n",
       "PLOS COMPUTATIONAL BIOLOGY                                      9\n",
       "PLOSONE                                                         9\n",
       "NEUROBIOLOGY OF AGING                                           8\n",
       "PROCEEDINGS OF THE ROYAL SOCIETY B: BIOLOGICAL SCIENCES         8\n",
       "JOURNAL OF PHYSIOLOGY                                           8\n",
       "                                                             ... \n",
       "BRITISH MEDICAL BULLETIN                                        1\n",
       "JOURNAL OF CHEMICAL INFORMATION AND MODELING                    1\n",
       "JOURNAL OF HOSPITAL INFECTIONS                                  1\n",
       "CELL DEATH AND DIFFERENTIATION                                  1\n",
       "HEART AND CIRCULATORY PHYSIOLOGY                                1\n",
       "MOLECULAR PAIN                                                  1\n",
       "MOLECULAR AND CELLULAR BIOLOGY                                  1\n",
       "PROCEEDINGS OF THE NATIONAL ACADEMY OF SCIENCES OF THE USA      1\n",
       "DRUG AND ALCOHOL REVIEW                                         1\n",
       "INTERNATIONAL JOURNAL OF FINANCIAL RESEARCH                     1\n",
       "FRONTIERS IN COGNITIVE SCIENCE                                  1\n",
       "CHEMSITRY & BIOLOGY                                             1\n",
       "FRONTIERS IN GENETICS                                           1\n",
       "JOURNAL OF EPIDEMIOLOGY AND COMMUNITY HEALTH                    1\n",
       "BIOCHIMICA ET BIOOHYSICA ACTA - MOLECULAR BASIS OF DISEASE      1\n",
       "EUROPEAN JOURNAL OF ENGLISH STUDIES                             1\n",
       "CELL DEATH DIFFERENTIATION                                      1\n",
       "J INFECT DIS                                                    1\n",
       "AMERICAN JOURNAL OF PATHOLOGY                                   1\n",
       "JOURNAL OF ANTHROPOLOGICAL ARCHAEOLOGY                          1\n",
       "CLINICAL AND EXPERIMENTAL ALLERGY                               1\n",
       "RSTB 2012.0145                                                  1\n",
       "THE JOURNAL OF NEUROPHYSIOLOGY                                  1\n",
       "AMERICAN JOURNAL OF CLINICAL NUTRITION                          1\n",
       "CLINICAL AND VACCINE IMMUNOLOGY                                 1\n",
       "FREE RADICAL AND BIOLOGY MEDICINE                               1\n",
       "STATISTICS IN MEDICINE                                          1\n",
       "PROTEIN ENGINEERING, DESIGN AND SELECTION (                     1\n",
       "BULLETIN OF THE HISTORY OF MEDICINE                             1\n",
       "URBAN HISTORY                                                   1\n",
       "Name: Journal title, Length: 894, dtype: int64"
      ]
     },
     "execution_count": 93,
     "metadata": {},
     "output_type": "execute_result"
    }
   ],
   "source": [
    "thinkful['Journal title'].value_counts()"
   ]
  },
  {
   "cell_type": "code",
   "execution_count": 100,
   "metadata": {},
   "outputs": [
    {
     "name": "stdout",
     "output_type": "stream",
     "text": [
      "<class 'pandas.core.frame.DataFrame'>\n",
      "Int64Index: 2126 entries, 0 to 2126\n",
      "Data columns (total 4 columns):\n",
      "Publisher        2126 non-null object\n",
      "Journal title    2126 non-null object\n",
      "Article title    2126 non-null object\n",
      "Price            2126 non-null float64\n",
      "dtypes: float64(1), object(3)\n",
      "memory usage: 83.0+ KB\n"
     ]
    }
   ],
   "source": [
    "thinkful['Price'] = thinkful['Price'].str.replace('£', '').replace('$', '')\n",
    "thinkful['Price'] = pd.to_numeric(thinkful['Price'], errors='coerce')\n",
    "thinkful.head()\n",
    "thinkful.info()"
   ]
  },
  {
   "cell_type": "code",
   "execution_count": 101,
   "metadata": {},
   "outputs": [
    {
     "data": {
      "text/html": [
       "<div>\n",
       "<style scoped>\n",
       "    .dataframe tbody tr th:only-of-type {\n",
       "        vertical-align: middle;\n",
       "    }\n",
       "\n",
       "    .dataframe tbody tr th {\n",
       "        vertical-align: top;\n",
       "    }\n",
       "\n",
       "    .dataframe thead th {\n",
       "        text-align: right;\n",
       "    }\n",
       "</style>\n",
       "<table border=\"1\" class=\"dataframe\">\n",
       "  <thead>\n",
       "    <tr style=\"text-align: right;\">\n",
       "      <th></th>\n",
       "      <th>Price</th>\n",
       "    </tr>\n",
       "  </thead>\n",
       "  <tbody>\n",
       "    <tr>\n",
       "      <th>count</th>\n",
       "      <td>2126.000000</td>\n",
       "    </tr>\n",
       "    <tr>\n",
       "      <th>mean</th>\n",
       "      <td>24072.451609</td>\n",
       "    </tr>\n",
       "    <tr>\n",
       "      <th>std</th>\n",
       "      <td>146895.027687</td>\n",
       "    </tr>\n",
       "    <tr>\n",
       "      <th>min</th>\n",
       "      <td>0.000000</td>\n",
       "    </tr>\n",
       "    <tr>\n",
       "      <th>25%</th>\n",
       "      <td>1280.000000</td>\n",
       "    </tr>\n",
       "    <tr>\n",
       "      <th>50%</th>\n",
       "      <td>1883.860000</td>\n",
       "    </tr>\n",
       "    <tr>\n",
       "      <th>75%</th>\n",
       "      <td>2321.230000</td>\n",
       "    </tr>\n",
       "    <tr>\n",
       "      <th>max</th>\n",
       "      <td>999999.000000</td>\n",
       "    </tr>\n",
       "  </tbody>\n",
       "</table>\n",
       "</div>"
      ],
      "text/plain": [
       "               Price\n",
       "count    2126.000000\n",
       "mean    24072.451609\n",
       "std    146895.027687\n",
       "min         0.000000\n",
       "25%      1280.000000\n",
       "50%      1883.860000\n",
       "75%      2321.230000\n",
       "max    999999.000000"
      ]
     },
     "execution_count": 101,
     "metadata": {},
     "output_type": "execute_result"
    }
   ],
   "source": [
    "thinkful.describe()"
   ]
  },
  {
   "cell_type": "code",
   "execution_count": 103,
   "metadata": {},
   "outputs": [
    {
     "data": {
      "text/plain": [
       "PLOS ONE                           190\n",
       "JOURNAL OF BIOLOGICAL CHEMISTRY     53\n",
       "NEUROIMAGE                          29\n",
       "NUCLEIC ACIDS RESEARCH              26\n",
       "PLOS GENETICS                       24\n",
       "Name: Journal title, dtype: int64"
      ]
     },
     "execution_count": 103,
     "metadata": {},
     "output_type": "execute_result"
    }
   ],
   "source": [
    "Journal = thinkful['Journal title'].value_counts()\n",
    "Journal[0:5]"
   ]
  },
  {
   "cell_type": "code",
   "execution_count": 115,
   "metadata": {},
   "outputs": [],
   "source": [
    "def journal_cost(x): \n",
    "\n",
    "    pub = thinkful[thinkful['Journal title'] == x]\n",
    "\n",
    "    mean = pub['Price'].mean()\n",
    "    median = pub['Price'].median()\n",
    "    std = pub['Price'].std()\n",
    "\n",
    "    print('Journal title:',x,'\\nMean:',mean,'\\nMedian:',median,'\\nStandard deviation:',std, '\\n')"
   ]
  },
  {
   "cell_type": "code",
   "execution_count": 116,
   "metadata": {},
   "outputs": [
    {
     "name": "stdout",
     "output_type": "stream",
     "text": [
      "Journal title: PLOS ONE \n",
      "Mean: 38751.29136842105 \n",
      "Median: 898.475 \n",
      "Standard deviation: 189009.51197380977 \n",
      "\n",
      "None\n",
      "Journal title: JOURNAL OF BIOLOGICAL CHEMISTRY \n",
      "Mean: 20264.63396226415 \n",
      "Median: 1314.53 \n",
      "Standard deviation: 137165.48839818343 \n",
      "\n",
      "None\n",
      "Journal title: NEUROIMAGE \n",
      "Mean: 2215.168275862069 \n",
      "Median: 2326.43 \n",
      "Standard deviation: 266.65394691928987 \n",
      "\n",
      "None\n",
      "Journal title: NUCLEIC ACIDS RESEARCH \n",
      "Mean: 1149.0 \n",
      "Median: 852.0 \n",
      "Standard deviation: 442.9404474644419 \n",
      "\n",
      "None\n",
      "Journal title: PLOS GENETICS \n",
      "Mean: 84839.435 \n",
      "Median: 1718.3899999999999 \n",
      "Standard deviation: 281865.70779441687 \n",
      "\n",
      "None\n"
     ]
    }
   ],
   "source": [
    "print(journal_cost('PLOS ONE'))\n",
    "print(journal_cost('JOURNAL OF BIOLOGICAL CHEMISTRY'))\n",
    "print(journal_cost('NEUROIMAGE'))\n",
    "print(journal_cost('NUCLEIC ACIDS RESEARCH'))\n",
    "print(journal_cost('PLOS GENETICS'))"
   ]
  },
  {
   "cell_type": "code",
   "execution_count": null,
   "metadata": {},
   "outputs": [],
   "source": []
  }
 ],
 "metadata": {
  "kernelspec": {
   "display_name": "Python 3",
   "language": "python",
   "name": "python3"
  },
  "language_info": {
   "codemirror_mode": {
    "name": "ipython",
    "version": 3
   },
   "file_extension": ".py",
   "mimetype": "text/x-python",
   "name": "python",
   "nbconvert_exporter": "python",
   "pygments_lexer": "ipython3",
   "version": "3.7.3"
  }
 },
 "nbformat": 4,
 "nbformat_minor": 2
}
